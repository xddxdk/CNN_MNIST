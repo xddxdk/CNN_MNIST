{
 "cells": [
  {
   "cell_type": "code",
   "execution_count": 9,
   "id": "774b54b0",
   "metadata": {},
   "outputs": [],
   "source": [
    "import torch\n",
    "import torch.nn as nn"
   ]
  },
  {
   "cell_type": "code",
   "execution_count": 10,
   "id": "ba60fecb",
   "metadata": {},
   "outputs": [],
   "source": [
    "# Loss - CrossEntropyLoss\n",
    "# Optimizator - Adam"
   ]
  },
  {
   "cell_type": "code",
   "execution_count": null,
   "id": "7dbf3c7b",
   "metadata": {},
   "outputs": [],
   "source": [
    "# Model (Conv2d - ReLU - MaxPool - Conv2d - ReLU -  MaxPool - Flatten - Linear)\n",
    "class CNN(nn.Module):\n",
    "    def __init__(self, n_filters1, n_filters2):\n",
    "        super().__init__()\n",
    "        self.conv1 = nn.Conv2d(1, n_filters1, kernel_size=3, padding=1)\n",
    "        self.pool = nn.MaxPool2d(kernel_size=2, stride=2) \n",
    "        self.conv2 = nn.Conv2d(n_filters1, n_filters2, kernel_size=3, padding=1)\n",
    "        self.fc = nn.Linear(n_filters2*7*7, 10)\n",
    "    def forward(self, x):\n",
    "        x = self.conv1(x) # Conv2d\n",
    "        x = torch.relu(x) # ReLU\n",
    "        x = self.pool(x) # MaxPool\n",
    "        x = self.conv2(x) # Conv2d\n",
    "        x = torch.relu(x) # ReLU\n",
    "        x = self.pool(x) # MaxPool\n",
    "        x = x.view(x.size(0), -1) # Flatten\n",
    "        x = self.fc(x) # Linear\n",
    "        return x\n",
    "    \n",
    "# Do not use Softmax (Included in CrossEntropyLoss)"
   ]
  }
 ],
 "metadata": {
  "kernelspec": {
   "display_name": "Python 3",
   "language": "python",
   "name": "python3"
  },
  "language_info": {
   "codemirror_mode": {
    "name": "ipython",
    "version": 3
   },
   "file_extension": ".py",
   "mimetype": "text/x-python",
   "name": "python",
   "nbconvert_exporter": "python",
   "pygments_lexer": "ipython3",
   "version": "3.13.3"
  }
 },
 "nbformat": 4,
 "nbformat_minor": 5
}
