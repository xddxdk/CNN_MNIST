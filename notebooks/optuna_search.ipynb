{
 "cells": [
  {
   "cell_type": "code",
   "execution_count": null,
   "id": "e79ab676",
   "metadata": {},
   "outputs": [],
   "source": [
    "'''\n",
    "Оптимизация c помощью optuna\n",
    "\n",
    "Оптимизируемые параметры:\n",
    "lr - learning rate для optim.Adam\n",
    "n_filters1, n_filters2 - число фильтров для первого и второго сверточного слоя\n",
    "batch_sie - размер батчей для обучающих данных\n",
    "\n",
    "'''\n",
    "\n"
   ]
  },
  {
   "cell_type": "code",
   "execution_count": 5,
   "id": "ff30741e",
   "metadata": {},
   "outputs": [],
   "source": [
    "import optuna\n",
    "from torch.utils.data import random_split\n",
    "import torch.optim as optim"
   ]
  },
  {
   "cell_type": "code",
   "execution_count": null,
   "id": "b5b66dff",
   "metadata": {},
   "outputs": [],
   "source": [
    "# Import previous files\n",
    "%run data_preparation.ipynb\n",
    "%run model.ipynb"
   ]
  },
  {
   "cell_type": "code",
   "execution_count": 2,
   "id": "c326c4c8",
   "metadata": {},
   "outputs": [],
   "source": [
    "train_losses = []\n",
    "val_losses = []"
   ]
  },
  {
   "cell_type": "code",
   "execution_count": 6,
   "id": "715037cc",
   "metadata": {},
   "outputs": [],
   "source": [
    "# Optuna\n",
    "def objective(trial):\n",
    "    # Гиперпараметры, которые подбираем\n",
    "    batch_size = trial.suggest_categorical('batch_size', [32, 64, 128])\n",
    "    lr = trial.suggest_float('lr', 1e-4, 1e-2, log=True)\n",
    "    n_filters1 = trial.suggest_int('n_filters1', 8, 32, step=8)\n",
    "    n_filters2 = trial.suggest_int('n_filters2', 16, 64, step=16)\n",
    "    \n",
    "    # Обучающие и валидационные данные\n",
    "    full_dataset = MNIST(root='./data', train=True, download=True, transform=trasform)\n",
    "    train_size = int(0.8 * len(full_dataset))\n",
    "    val_size = len(full_dataset) - train_size\n",
    "    train_dataset, val_dataset = random_split(full_dataset, [train_size, val_size])\n",
    "    train_loader = DataLoader(train_dataset, batch_size=batch_size, shuffle=True)\n",
    "    val_loader = DataLoader(val_dataset, batch_size=1000, shuffle=False)\n",
    "    \n",
    "    # Модель\n",
    "    model = CNN(n_filters1, n_filters2)\n",
    "    criterion = nn.CrossEntropyLoss()\n",
    "    optimizer = optim.Adam(model.parameters(), lr = lr)\n",
    "    \n",
    "    # Обучение (5 эпох)\n",
    "    for epoch in range(5):\n",
    "        # Обучение\n",
    "        model.train()\n",
    "        running_train_loss = 0\n",
    "        for iter, (X_batch, y_batch) in enumerate(train_loader):\n",
    "            optimizer.zero_grad()\n",
    "            outputs = model(X_batch)\n",
    "            loss = criterion(outputs, y_batch)\n",
    "            loss.backward()\n",
    "            optimizer.step()\n",
    "            running_train_loss += loss.item() * X_batch.size(0)\n",
    "        avg_train_loss = running_train_loss / len(train_loader.dataset)\n",
    "        train_losses.append(avg_train_loss)\n",
    "        # Валидация\n",
    "        model.eval()\n",
    "        running_val_loss = 0\n",
    "        with torch.no_grad():\n",
    "            for iter, (X_batch, y_batch) in enumerate(val_loader):\n",
    "                outputs = model(X_batch)\n",
    "                loss = criterion(outputs, y_batch)\n",
    "                running_val_loss += loss.item() * X_batch.size(0)\n",
    "        avg_val_loss = running_val_loss / len(val_loader.dataset)\n",
    "        val_losses.append(avg_val_loss)\n",
    "        return avg_val_loss"
   ]
  },
  {
   "cell_type": "code",
   "execution_count": 7,
   "id": "ead89f04",
   "metadata": {},
   "outputs": [
    {
     "name": "stderr",
     "output_type": "stream",
     "text": [
      "[I 2025-06-09 16:53:25,287] A new study created in memory with name: no-name-16514037-705c-4236-aabe-256184774136\n",
      "[I 2025-06-09 16:53:37,653] Trial 0 finished with value: 0.06775864617278178 and parameters: {'batch_size': 128, 'lr': 0.007331318053393051, 'n_filters1': 16, 'n_filters2': 64}. Best is trial 0 with value: 0.06775864617278178.\n",
      "[I 2025-06-09 16:53:46,739] Trial 1 finished with value: 0.19741836562752724 and parameters: {'batch_size': 64, 'lr': 0.00021154427148648255, 'n_filters1': 16, 'n_filters2': 16}. Best is trial 0 with value: 0.06775864617278178.\n",
      "[I 2025-06-09 16:53:58,893] Trial 2 finished with value: 0.1658902478714784 and parameters: {'batch_size': 32, 'lr': 0.00018190183981776074, 'n_filters1': 24, 'n_filters2': 16}. Best is trial 0 with value: 0.06775864617278178.\n",
      "[I 2025-06-09 16:54:12,111] Trial 3 finished with value: 0.0639663211380442 and parameters: {'batch_size': 64, 'lr': 0.002566843804311677, 'n_filters1': 32, 'n_filters2': 16}. Best is trial 3 with value: 0.0639663211380442.\n",
      "[I 2025-06-09 16:54:23,482] Trial 4 finished with value: 0.06959745660424232 and parameters: {'batch_size': 64, 'lr': 0.005848910153039592, 'n_filters1': 24, 'n_filters2': 16}. Best is trial 3 with value: 0.0639663211380442.\n",
      "[I 2025-06-09 16:54:32,321] Trial 5 finished with value: 0.08002291992306709 and parameters: {'batch_size': 128, 'lr': 0.004268462970957556, 'n_filters1': 8, 'n_filters2': 32}. Best is trial 3 with value: 0.0639663211380442.\n",
      "[I 2025-06-09 16:54:45,400] Trial 6 finished with value: 0.18873358766237894 and parameters: {'batch_size': 128, 'lr': 0.0001754967306817407, 'n_filters1': 16, 'n_filters2': 64}. Best is trial 3 with value: 0.0639663211380442.\n",
      "[I 2025-06-09 16:54:59,573] Trial 7 finished with value: 0.10588035049537818 and parameters: {'batch_size': 64, 'lr': 0.0002981386624885036, 'n_filters1': 32, 'n_filters2': 32}. Best is trial 3 with value: 0.0639663211380442.\n",
      "[I 2025-06-09 16:55:09,004] Trial 8 finished with value: 0.0860590897500515 and parameters: {'batch_size': 64, 'lr': 0.0013324897056017394, 'n_filters1': 16, 'n_filters2': 16}. Best is trial 3 with value: 0.0639663211380442.\n",
      "[I 2025-06-09 16:55:18,470] Trial 9 finished with value: 0.07773785913983981 and parameters: {'batch_size': 64, 'lr': 0.0020934553052597005, 'n_filters1': 16, 'n_filters2': 16}. Best is trial 3 with value: 0.0639663211380442.\n",
      "[I 2025-06-09 16:55:35,891] Trial 10 finished with value: 0.0622336957603693 and parameters: {'batch_size': 32, 'lr': 0.0005620208622775428, 'n_filters1': 32, 'n_filters2': 48}. Best is trial 10 with value: 0.0622336957603693.\n",
      "[I 2025-06-09 16:55:52,268] Trial 11 finished with value: 0.06424235583593448 and parameters: {'batch_size': 32, 'lr': 0.0005756649089719711, 'n_filters1': 32, 'n_filters2': 48}. Best is trial 10 with value: 0.0622336957603693.\n",
      "[I 2025-06-09 16:56:09,065] Trial 12 finished with value: 0.07833748248716195 and parameters: {'batch_size': 32, 'lr': 0.0006123324734439825, 'n_filters1': 32, 'n_filters2': 48}. Best is trial 10 with value: 0.0622336957603693.\n",
      "[I 2025-06-09 16:56:25,459] Trial 13 finished with value: 0.07208421950538953 and parameters: {'batch_size': 32, 'lr': 0.0026107410269825488, 'n_filters1': 32, 'n_filters2': 48}. Best is trial 10 with value: 0.0622336957603693.\n",
      "[I 2025-06-09 16:56:39,047] Trial 14 finished with value: 0.07394937705248594 and parameters: {'batch_size': 32, 'lr': 0.0008561759285619337, 'n_filters1': 24, 'n_filters2': 32}. Best is trial 10 with value: 0.0622336957603693.\n",
      "[I 2025-06-09 16:56:55,441] Trial 15 finished with value: 0.09263134623567264 and parameters: {'batch_size': 64, 'lr': 0.0003874406225241348, 'n_filters1': 32, 'n_filters2': 48}. Best is trial 10 with value: 0.0622336957603693.\n",
      "[I 2025-06-09 16:57:09,141] Trial 16 finished with value: 0.0771770424519976 and parameters: {'batch_size': 32, 'lr': 0.0014556889063975795, 'n_filters1': 24, 'n_filters2': 32}. Best is trial 10 with value: 0.0622336957603693.\n",
      "[I 2025-06-09 16:57:20,949] Trial 17 finished with value: 0.05842232424765825 and parameters: {'batch_size': 32, 'lr': 0.0032714662050235, 'n_filters1': 8, 'n_filters2': 64}. Best is trial 17 with value: 0.05842232424765825.\n",
      "[I 2025-06-09 16:57:33,796] Trial 18 finished with value: 0.17079473535219827 and parameters: {'batch_size': 32, 'lr': 0.00012057099046381755, 'n_filters1': 8, 'n_filters2': 64}. Best is trial 17 with value: 0.05842232424765825.\n",
      "[I 2025-06-09 16:57:45,486] Trial 19 finished with value: 0.10160603374242783 and parameters: {'batch_size': 32, 'lr': 0.00984700764039404, 'n_filters1': 8, 'n_filters2': 64}. Best is trial 17 with value: 0.05842232424765825.\n"
     ]
    }
   ],
   "source": [
    "# Запуск Optuna\n",
    "study = optuna.create_study(direction='minimize')\n",
    "study.optimize(objective, n_trials=20, timeout=500)"
   ]
  },
  {
   "cell_type": "code",
   "execution_count": 9,
   "id": "b5449783",
   "metadata": {},
   "outputs": [
    {
     "name": "stdout",
     "output_type": "stream",
     "text": [
      "Best hyperparams:  {'batch_size': 32, 'lr': 0.0032714662050235, 'n_filters1': 8, 'n_filters2': 64}\n",
      "Min loss: 5.84%\n"
     ]
    }
   ],
   "source": [
    "print(\"Best hyperparams: \", study.best_params)\n",
    "print(f\"Min loss: {study.best_value:.2%}\")"
   ]
  }
 ],
 "metadata": {
  "kernelspec": {
   "display_name": "Python 3",
   "language": "python",
   "name": "python3"
  },
  "language_info": {
   "codemirror_mode": {
    "name": "ipython",
    "version": 3
   },
   "file_extension": ".py",
   "mimetype": "text/x-python",
   "name": "python",
   "nbconvert_exporter": "python",
   "pygments_lexer": "ipython3",
   "version": "3.13.3"
  }
 },
 "nbformat": 4,
 "nbformat_minor": 5
}
