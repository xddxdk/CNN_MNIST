{
 "cells": [
  {
   "cell_type": "code",
   "execution_count": 14,
   "id": "59d1759c",
   "metadata": {},
   "outputs": [],
   "source": [
    "import torchvision.transforms as transforms\n",
    "from torch.utils.data import DataLoader\n",
    "from torchvision.datasets import MNIST"
   ]
  },
  {
   "cell_type": "code",
   "execution_count": null,
   "id": "acf7090b",
   "metadata": {},
   "outputs": [],
   "source": [
    "# data normalization\n",
    "dataset = MNIST(root='./data', train=True, download=True, transform=transforms.ToTensor())\n",
    "loader = DataLoader(dataset, batch_size=60000)\n",
    "data_iter = iter(loader)\n",
    "images, _ = next(data_iter)\n",
    "mean = images.mean().item()\n",
    "std = images.std().item()\n",
    "\n",
    "trasform = transforms.Compose([transforms.ToTensor(), transforms.Normalize((mean, ), (std, ))])"
   ]
  }
 ],
 "metadata": {
  "kernelspec": {
   "display_name": "Python 3",
   "language": "python",
   "name": "python3"
  },
  "language_info": {
   "codemirror_mode": {
    "name": "ipython",
    "version": 3
   },
   "file_extension": ".py",
   "mimetype": "text/x-python",
   "name": "python",
   "nbconvert_exporter": "python",
   "pygments_lexer": "ipython3",
   "version": "3.13.3"
  }
 },
 "nbformat": 4,
 "nbformat_minor": 5
}
